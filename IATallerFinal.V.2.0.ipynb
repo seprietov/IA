{
 "cells": [
  {
   "cell_type": "markdown",
   "source": "# Proyecto final Introducción a la Inteligencia Artificial\n",
   "metadata": {
    "cell_id": "78e1b592-b3c0-46b1-93a9-56ace1fc1a94",
    "tags": [],
    "deepnote_cell_type": "markdown"
   }
  },
  {
   "cell_type": "markdown",
   "source": "#### Integrantes:\nDiego Romero Iregui \\\nSergio Esteban Prieto Vargas \\\nOscar Julian Rodriguez Cardenas\n",
   "metadata": {
    "cell_id": "8485a03d-3891-4335-ab65-0f7a64f4ca1f",
    "tags": [],
    "deepnote_cell_type": "markdown"
   }
  },
  {
   "cell_type": "markdown",
   "source": "## Introducción",
   "metadata": {
    "cell_id": "8e35f6b0-ea3f-44c1-a48c-f9d456b36cd5",
    "tags": [],
    "deepnote_cell_type": "markdown"
   }
  },
  {
   "cell_type": "markdown",
   "source": "En el siguiente notebook se encuentra un proyecto en el cual implementamos modelos de clasificación de machine learning, y aprendimos cuáles son los datos que importan para el entrenamiento de estos modelos y como suministrarlos. \n\nAunque identificar y preprocesar los datos para que los modelos aprendan de forma satisfactoria fue gran parte de nuestro trabajo, encontramos más aprendizajes a lo largo de la realización del proyecto. Una de las enseñanzas fue comprender la relación entre los datos que le proveemos al programa para su entrenamiento, y los resultados finales de cada uno de los modelos de inteligencia artificial. Las demás enseñanzas las comentaremos a medida que avanzamos en el código.\n",
   "metadata": {
    "cell_id": "c891efeb-0a8e-41e5-8f09-f23e2728592b",
    "tags": [],
    "deepnote_cell_type": "markdown"
   }
  },
  {
   "cell_type": "markdown",
   "source": "##### Nota 1: Para presentar este documento, describiremos los pasos que hicimos durante la primera iteración del código y la implementación del primer modelo. Los otros modelos se hacen de manera similar, por lo cual los comentarios serán reducidos, si existe algo notable que merezca la pena comentar, se agregara en el lugar correspondiente.",
   "metadata": {
    "cell_id": "930db2c1-4fbd-45ae-aec3-b3b3531c01d4",
    "tags": [],
    "deepnote_cell_type": "markdown"
   }
  },
  {
   "cell_type": "markdown",
   "source": "## Pasos del programa.\n#####    1. Importamos las librerías.\n#####    2. Definimos las funciones importantes.\n#####    3. Realizamos el preprocesamiento de nuestra base de datos mediante las funciones definidas.\n#####    4. Tuneamos los hiperparámetros para el modelo.\n#####    5. Mostramos los hiperparámetros que se usaran para el modelo.\n#####    6. Dividimos los datos de forma aleatoria, en k grupos, tal de que tengan el mismo tamaño para entrenar el modelo usando estas divisiones e manera aleatoria. (KFold)\n#####    7. Generamos la curva de validación y observamos los resultados.\n#####    8. Generamos las matrices de confusión y reportes de clasificación.",
   "metadata": {
    "cell_id": "dbceecbd-bd74-4238-9cb2-137192a1acb4",
    "tags": [],
    "deepnote_cell_type": "markdown"
   }
  },
  {
   "cell_type": "markdown",
   "source": "##### Particiones: Debido a que se contaba con una base de datos medianamente grande, utilizamos una partición para training del 80% y para test del 20%, decidimos organizar nuestra base de datos de la siguiente manera: un directorio llamado DB, dentro de este tres directorios denominados Squares, Circles y Rectangles, dentro de cada directorio incluir las imagenes respectivas.",
   "metadata": {
    "cell_id": "ec0868c6-832a-412b-9e2d-5efd53252c36",
    "tags": [],
    "deepnote_cell_type": "markdown"
   }
  },
  {
   "cell_type": "markdown",
   "source": "#### Medida de desempeño:\nPara la medida que desempeño decidimos elegir observar la curva de validación; observamos cuál era la diferencia para cada punto entre la precisión de entrenamiento y la precisión del modelo en el dataset de test. Tomamos esta medida de desempeño porque agrupa la información de: si el modelo esta aprendiendo o esta memorizando y la precisión al clasificar las imágenes de prueba.",
   "metadata": {
    "cell_id": "0eef6070-1776-4c80-ab6f-9d33ecabcf79",
    "tags": [],
    "deepnote_cell_type": "markdown"
   }
  },
  {
   "cell_type": "markdown",
   "source": "## PIPELINE\n\nUna vez descargado el notebook y subido a un entorno de ejecución adecuado, (como lo son colab, jupyter notebooks, deepnote...) , se debe proveer una base de datos.\n\nPara poder análizar de las imágenes, se deberán modificar los paths en ciertos lugares del notebook.\nEl primero se encuentra dentro de la función image_preprocessing, que a su vez se encuentra en la primera celda debajo del título \"Funciones\". \\\nLa función image_processing convierte en array las imagenes dentro de una carpeta, cuyo nombre está representado por la variable \"shape\". En otras palabras, se debe especificar la carpeta donde se encuentran las imágenes a procesar con la variable \"shape\". \\\nLo segundo a modificar se encuentra en la celda de abajo, donde la funcion image_processing recibe el nombre de la carpeta donde se encontrarán las imágenes. Evidentemente se deberá cambiar el nombre de la carpeta al deseado.\n\nUna vez adaptado el notebook a la base de datos, se deberá ejecutar el notebook en su totalidad, luego se podrá ver el rendimiento de los diferentes métodos",
   "metadata": {
    "cell_id": "ce4d6126-ed9a-4592-8dfb-e27f868ceb6b",
    "tags": [],
    "deepnote_cell_type": "markdown"
   }
  },
  {
   "cell_type": "markdown",
   "source": "##   1. Importamos las librerias.\n",
   "metadata": {
    "cell_id": "18659728-2345-4206-a230-55cb6ef17e3f",
    "tags": [],
    "deepnote_cell_type": "markdown"
   }
  },
  {
   "cell_type": "code",
   "metadata": {
    "cell_id": "a33ccb7b-acef-4817-9e11-c10f6ce26a92",
    "tags": [],
    "deepnote_to_be_reexecuted": false,
    "source_hash": "5f84d31b",
    "execution_start": 1644467425779,
    "execution_millis": 4023,
    "deepnote_cell_type": "code"
   },
   "source": "#Fundamentales\nimport pandas as pd\nimport numpy as np\nfrom PIL import Image\nimport glob\n\n\n#Modelos\nfrom sklearn.svm import SVC\nfrom sklearn.neighbors import KNeighborsClassifier\nfrom sklearn.ensemble import RandomForestClassifier\nfrom sklearn.naive_bayes import GaussianNB\n\n\n#Utilidades y preprocesamiento\nfrom sklearn.model_selection import train_test_split\nfrom sklearn.metrics import accuracy_score\nfrom sklearn.metrics import classification_report, confusion_matrix\nimport matplotlib.pyplot as plt\nfrom sklearn.preprocessing import StandardScaler\nfrom sklearn.model_selection import cross_val_score\nfrom sklearn.model_selection import validation_curve\nfrom sklearn.decomposition import KernelPCA\nfrom sklearn.model_selection import GridSearchCV\nfrom sklearn.model_selection import KFold\n",
   "execution_count": null,
   "outputs": []
  },
  {
   "cell_type": "markdown",
   "source": "##    2. Definimos las funciones importantes.\n",
   "metadata": {
    "cell_id": "1ecb3aff-8ac9-471b-b3fc-faf576763b4c",
    "tags": [],
    "deepnote_cell_type": "markdown"
   }
  },
  {
   "cell_type": "markdown",
   "source": "El preprocesamiento que desarrollamos para estas imágenes es el siguiente; tomamos la imagen y la escalamos a 100x100 pixeles para reducir el numero de elementos que el modelo tiene que analizar, posteriormente el resultado lo pasamos a una escala de grises, lo cual reduce tres veces los objetos de análisis por que en lugar de tener los canales RGB, queda un solo canal. Como último paso tomamos la imagen y organizamos el valor de los pixeles en un arreglo, este arreglo es el que usaremos para alimentar a nuestro modelo y luego para verificar que tan exitoso fue el entrenamiento de cada uno de los modelos.",
   "metadata": {
    "cell_id": "d2ae287f-7efb-4c73-8e68-a67aac9539f6",
    "tags": [],
    "deepnote_cell_type": "markdown"
   }
  },
  {
   "cell_type": "code",
   "metadata": {
    "cell_id": "0d7bbdd2-9488-4a0a-a0c2-075e86c4a548",
    "tags": [],
    "deepnote_to_be_reexecuted": false,
    "source_hash": "e8ccb72c",
    "execution_start": 1644467432588,
    "execution_millis": 0,
    "deepnote_cell_type": "code"
   },
   "source": "#En la siguiente funcionSe cambia el tamaño de la imagen a \n# 100x100 pixeles, y se cambia a escala de grises.\n\n\ndef resize_gray_images(array, longitud):         \n    \n\n    for i in range(longitud):\n        \n        img = Image.fromarray(array[i])\n        image_resize  = img.resize((100, 100))\n        #img = Image.fromarray(image_resize)\n        imgGray = image_resize.convert('L')\n        array[i] = np.array(imgGray)\n    \n    return array\n\n#La siguiente función recibe la dirección de una carpeta,\n#luego se transforman las imagenes dentro en array y se llama a la \n#función que las redimensiona y cambia el color.\n\ndef image_preprocessing(shape):\n\n    \n    \n    fold = glob.glob('DB/'+shape+'/*.png')\n    fold_t = np.array([np.array(Image.open(fname)) for fname in fold])\n    fold_t = resize_gray_images(fold_t, len(fold_t))\n    \n    return fold_t",
   "execution_count": null,
   "outputs": []
  },
  {
   "cell_type": "markdown",
   "source": "##    3. Realizamos el preprocesamiento de nuestra base de datos mediante las funciones definidas.\n",
   "metadata": {
    "cell_id": "02f5f820-5af7-4db5-9a47-c42eabc56bce",
    "tags": [],
    "deepnote_cell_type": "markdown"
   }
  },
  {
   "cell_type": "code",
   "metadata": {
    "cell_id": "89ddc3ce-1ecc-4a28-93ba-af300d66e6b6",
    "tags": [],
    "deepnote_to_be_reexecuted": false,
    "source_hash": "cb7d5e03",
    "execution_start": 1644467443436,
    "execution_millis": 25697,
    "deepnote_output_heights": [
     null,
     21.1875
    ],
    "deepnote_cell_type": "code"
   },
   "source": "#Para cada carpeta se hace el preprocesamiento de las imágenes\n\ncircle_array = image_preprocessing('Circles')\nsquare_array = image_preprocessing('Squares')\nrectangle_array = image_preprocessing('Rectangles')\n\n#Se cambia el formato de las imagenes, para poder insertarlas en un \n#dataframe, y se añade un dato que indica qué forma se encuentra \n#en la imagen, al ver de qué carpeta proviene\n\nimages = []\n    \nfor img in circle_array:\n    img = img.reshape(100*100)\n    l = []\n    for pixel in img:\n        l.append(pixel)\n    l.append(0)\n    images.append(l) \n    \nfor img in square_array:\n    img = img.reshape(100*100)\n    l = []\n    for pixel in img:\n        l.append(pixel)\n    l.append(1)\n    images.append(l)\n    \nfor img in rectangle_array:\n    img = img.reshape(100*100)\n    l = []\n    for pixel in img:\n        l.append(pixel)\n    l.append(2)\n    images.append(l) \n\n#print(len(images),images)\n\n\n#Se crea el dataframe con los resultados\ndf = pd.DataFrame(images)\ndf = df.sample(frac=1).reset_index(drop=True) #Shuffling the dataframe\n\n\n\n\nX = df.drop(columns=[10000])\ny = df[10000]\n\n#Se divide la base de datos de manera aleatoria para obtener\n#los arreglos que corresponden a train y a test\n\n\nscaler = StandardScaler()\nscaler.fit(X)\nX = scaler.transform(X)\n\n#-------------------------------------------------------------------------------------------",
   "execution_count": null,
   "outputs": [
    {
     "name": "stderr",
     "text": "/shared-libs/python3.7/py-core/lib/python3.7/site-packages/ipykernel_launcher.py:27: VisibleDeprecationWarning: Creating an ndarray from ragged nested sequences (which is a list-or-tuple of lists-or-tuples-or ndarrays with different lengths or shapes) is deprecated. If you meant to do this, you must specify 'dtype=object' when creating the ndarray\n",
     "output_type": "stream"
    }
   ]
  },
  {
   "cell_type": "markdown",
   "source": "# SVM (Support Vector Machines)",
   "metadata": {
    "cell_id": "62a54810-3eab-4731-9c7e-ac79d46a80d6",
    "tags": [],
    "deepnote_cell_type": "markdown"
   }
  },
  {
   "cell_type": "markdown",
   "source": "##    4. Tuneamos los hiperparametros para el modelo.\n",
   "metadata": {
    "cell_id": "d9750279-edba-47ec-8dfe-d01de96ab217",
    "tags": [],
    "deepnote_cell_type": "markdown"
   }
  },
  {
   "cell_type": "code",
   "metadata": {
    "cell_id": "f387bd9c-82c1-46a8-81d8-cc5300f138fd",
    "tags": [],
    "deepnote_to_be_reexecuted": false,
    "source_hash": "a51acf63",
    "execution_start": 1644467484654,
    "execution_millis": 73,
    "deepnote_output_heights": [
     21.1875
    ],
    "deepnote_cell_type": "code"
   },
   "source": "transformer = KernelPCA(n_components=2, kernel='linear')\nX = transformer.fit_transform(X)\nX_train, X_test, y_train, y_test = train_test_split(X, y, test_size=0.2,random_state=2)\n",
   "execution_count": null,
   "outputs": []
  },
  {
   "cell_type": "code",
   "metadata": {
    "cell_id": "d5f0e022-5fee-4301-bbaf-65a0955e28de",
    "tags": [],
    "deepnote_to_be_reexecuted": false,
    "source_hash": "c7302788",
    "execution_start": 1644467486942,
    "execution_millis": 147,
    "deepnote_cell_type": "code"
   },
   "source": "param_grid = {'C': [100, 1000],\n              'gamma': [ 0.01, 0.001, 0.0001],\n              'kernel': ['rbf']}\n\n\nsvmc = SVC()\n\nCV_svmc = GridSearchCV(estimator=svmc, param_grid=param_grid, cv = 5).fit(X_train,y_train)\nparams = CV_svmc.best_params_",
   "execution_count": null,
   "outputs": []
  },
  {
   "cell_type": "markdown",
   "source": "##    5. Mostramos los hiperparametros que se usaran para el modelo.\n",
   "metadata": {
    "cell_id": "2a56247f-3412-4980-81b0-65ca363459a4",
    "tags": [],
    "deepnote_cell_type": "markdown"
   }
  },
  {
   "cell_type": "code",
   "metadata": {
    "cell_id": "0206ac12-df5d-4778-8f8a-99e4042d15fe",
    "tags": [],
    "deepnote_to_be_reexecuted": false,
    "source_hash": "71c88b5e",
    "execution_start": 1644467490886,
    "execution_millis": 9,
    "deepnote_output_heights": [
     21
    ],
    "deepnote_cell_type": "code"
   },
   "source": "params",
   "execution_count": null,
   "outputs": [
    {
     "output_type": "execute_result",
     "execution_count": 7,
     "data": {
      "text/plain": "{'C': 1000, 'gamma': 0.001, 'kernel': 'rbf'}"
     },
     "metadata": {}
    }
   ]
  },
  {
   "cell_type": "markdown",
   "source": "##    6. Dividimos los datos de forma aleatoria, en k grupos, tal de que tengan el mismo tamaño para entrenar el modelo usando estas divisiones e manera aleatoria. (KFold)\n",
   "metadata": {
    "cell_id": "f84005d7-5d8f-474c-a7c2-f1e16e8f4372",
    "tags": [],
    "deepnote_cell_type": "markdown"
   }
  },
  {
   "cell_type": "code",
   "metadata": {
    "cell_id": "6e941389-24c9-425e-b601-231d6736b560",
    "tags": [],
    "deepnote_to_be_reexecuted": false,
    "source_hash": "25500858",
    "execution_start": 1644467495494,
    "execution_millis": 90,
    "deepnote_cell_type": "code"
   },
   "source": "scores = []\nsvm = SVC(C=params['C'], gamma=params['gamma'],kernel=params['kernel'])\ncv = KFold(n_splits=10, random_state=41,shuffle=True)\nfor train_index, test_index in cv.split(X):\n\n    X_train, X_test, y_train, y_test = X[train_index], X[test_index], y[train_index], y[test_index]\n    svm.fit(X_train, y_train)\n    \n    predictions = svm.predict(X_test)\n    score = accuracy_score(y_test, predictions) \n    \n    scores.append(score)",
   "execution_count": null,
   "outputs": []
  },
  {
   "cell_type": "code",
   "metadata": {
    "cell_id": "2b9bb773-91dc-4924-9cbd-c43ba13234ac",
    "tags": [],
    "deepnote_to_be_reexecuted": false,
    "source_hash": "5ad5d988",
    "execution_start": 1644467498430,
    "execution_millis": 10,
    "deepnote_output_heights": [
     194
    ],
    "deepnote_cell_type": "code"
   },
   "source": "scores",
   "execution_count": null,
   "outputs": [
    {
     "output_type": "execute_result",
     "execution_count": 9,
     "data": {
      "text/plain": "[1.0,\n 0.7,\n 0.95,\n 0.9473684210526315,\n 0.9473684210526315,\n 0.7368421052631579,\n 0.8421052631578947,\n 1.0,\n 0.9473684210526315,\n 0.8947368421052632]"
     },
     "metadata": {}
    }
   ]
  },
  {
   "cell_type": "markdown",
   "source": "##### Nota 2: Estudiando la relación entre la cantidad de datos con la que alimentamos las funciones, y lo que veíamos en los resultados encontramos que la precisión del modelo daba como resultado 1. El motivo por el cual esto sucede es que las imágenes son muy similares entre ellas y debido al preprocesamiento que hicimos, las imágenes son aún más parecidas entre sí. Como la identificación entre imágenes se vuelve algo casi trivial, la precisión de las mediciones llega al valor de 1, lo que significa que no se equivoca al clasificar. Lo anterior también puede significar que suceda lo que se llama overfitting, esto significa es que el modelo esta memorizando cuáles son las respuestas correctas, no aprendiendo a identificar. Esta última idea se refuerza debido a que algunos resultado obtenidos, mostraban una precisión para el entrenamiento de valor 1 y mucha diferencia con la precisión de los valores de los test. ",
   "metadata": {
    "cell_id": "e05b845c-c8b0-4f41-91f0-aba466090367",
    "tags": [],
    "deepnote_cell_type": "markdown"
   }
  },
  {
   "cell_type": "markdown",
   "source": "##    7. Generamos la curva de validacion y observamos los resultados.\n",
   "metadata": {
    "cell_id": "4eedb25f-37c2-416f-9632-70e0af31ba65",
    "tags": [],
    "deepnote_cell_type": "markdown"
   }
  },
  {
   "cell_type": "code",
   "metadata": {
    "cell_id": "c9f933ad-d7ca-4691-bd71-ce446c70d506",
    "tags": [],
    "deepnote_to_be_reexecuted": false,
    "source_hash": "baae4da6",
    "execution_start": 1644467503159,
    "execution_millis": 2545,
    "deepnote_output_heights": [
     79
    ],
    "deepnote_cell_type": "code"
   },
   "source": "param_range=np.logspace(-6, -1, 5)\ntrain_scores, test_scores = validation_curve(SVC(C=params['C'], gamma=params['gamma'],kernel=params['kernel']), \n                                             X, \n                                             y, \n                                             param_name=\"gamma\", \n                                            param_range=param_range,\n                                             cv=cv, \n                                             scoring=\"accuracy\", \n                                             n_jobs=-1)",
   "execution_count": null,
   "outputs": []
  },
  {
   "cell_type": "code",
   "metadata": {
    "cell_id": "2549b8ea-6784-450d-b198-531014a40b35",
    "tags": [],
    "deepnote_to_be_reexecuted": false,
    "source_hash": "7d8f5856",
    "execution_start": 1644467507983,
    "execution_millis": 372,
    "deepnote_output_heights": [
     282
    ],
    "deepnote_cell_type": "code"
   },
   "source": "# Calculate mean and standard deviation for training set scores\ntrain_mean = np.mean(train_scores, axis=1)\ntrain_std = np.std(train_scores, axis=1)\n\n# Calculate mean and standard deviation for test set scores\ntest_mean = np.mean(test_scores, axis=1)\ntest_std = np.std(test_scores, axis=1)\n\n# Plot mean accuracy scores for training and test sets\nplt.plot(param_range, train_mean, label=\"Training score\", color=\"red\")\nplt.plot(param_range, test_mean, label=\"Cross-validation score\", color=\"blue\")\n\n# Plot accurancy bands for training and test sets\n#plt.fill_between(param_range, train_mean - train_std, train_mean + train_std, color=\"red\")\n#plt.fill_between(param_range, test_mean - test_std, test_mean + test_std, color=\"green\")\n\n# Create plot\nplt.title(\"Validation Curve With Support Vector Machines\")\nplt.xlabel(\"gamma\")\nplt.ylabel(\"Accuracy Score\")\nplt.tight_layout()\nplt.legend(loc=\"best\")\nplt.show()",
   "execution_count": null,
   "outputs": [
    {
     "data": {
      "text/plain": "<Figure size 432x288 with 1 Axes>",
      "image/png": "[encoded data removed]"
     },
     "metadata": {
      "needs_background": "light",
      "image/png": {
       "width": 424,
       "height": 280
      }
     },
     "output_type": "display_data"
    }
   ]
  },
  {
   "cell_type": "markdown",
   "source": "##    8. Generamos las matrices de confusion y reportes de clasificación.",
   "metadata": {
    "cell_id": "d1e5fea6-8c08-41ca-9676-af39aeb11421",
    "tags": [],
    "deepnote_cell_type": "markdown"
   }
  },
  {
   "cell_type": "code",
   "metadata": {
    "cell_id": "552b045c-0311-4f4a-80d0-eb593e9a843a",
    "tags": [],
    "deepnote_to_be_reexecuted": false,
    "source_hash": "d437528a",
    "execution_start": 1644467514206,
    "execution_millis": 17,
    "deepnote_cell_type": "code"
   },
   "source": "y_pred = svm.predict(X_test)\nprint(confusion_matrix(y_test, y_pred))\nprint(classification_report(y_test, y_pred))",
   "execution_count": null,
   "outputs": [
    {
     "name": "stdout",
     "text": "[[ 4  1  0]\n [ 1 11  0]\n [ 0  0  2]]\n              precision    recall  f1-score   support\n\n           0       0.80      0.80      0.80         5\n           1       0.92      0.92      0.92        12\n           2       1.00      1.00      1.00         2\n\n    accuracy                           0.89        19\n   macro avg       0.91      0.91      0.91        19\nweighted avg       0.89      0.89      0.89        19\n\n",
     "output_type": "stream"
    }
   ]
  },
  {
   "cell_type": "markdown",
   "source": "### Interpretación de la matriz de confusión\n\nEn este caso, la primera fila de la matriz nos indica que 4 circulos fueron clasificados como círculos, 1 círculo fue clasificado como cuadrados y ningún círculo fue clasificado como rectángulo.\nInterpretando de la misma manera, vemos en la segunda fila que 11 cuadrados fueron clasificados correctamente y 1 cuadrado fue calificado como circulo.\nY finalmente, la última fila nos indica que dos rectángulos fueron clasificados correctamente.",
   "metadata": {
    "cell_id": "8cc81a45-c559-4bd6-8078-38c00f6ee0d1",
    "tags": [],
    "deepnote_cell_type": "markdown"
   }
  },
  {
   "cell_type": "markdown",
   "source": "#### Interpretacion de resultados SVM: \n\nDurante el entrenamiento del modelo podemos observar que hay overfitting, ya que se alegan los valores del entrenamiento y el testeo, esta idea se refuerza ya que los valores del entrenamiento llegan 1 y los del testeo no superan el 0.9\n",
   "metadata": {
    "cell_id": "52dd3a94-1f80-439c-bfb5-58219fe98943",
    "tags": [],
    "deepnote_cell_type": "markdown"
   }
  },
  {
   "cell_type": "markdown",
   "source": "# Random Forest",
   "metadata": {
    "cell_id": "895fd70a-dd31-4e70-8a4b-8802151ea7a9",
    "tags": [],
    "deepnote_cell_type": "markdown"
   }
  },
  {
   "cell_type": "markdown",
   "source": "##    4.",
   "metadata": {
    "cell_id": "ae7f25cb-3380-41e8-a5fe-0e7886e9d53f",
    "tags": [],
    "deepnote_cell_type": "markdown"
   }
  },
  {
   "cell_type": "code",
   "metadata": {
    "cell_id": "0b16356f-653f-4f68-9eb9-696659789d70",
    "tags": [],
    "deepnote_to_be_reexecuted": false,
    "source_hash": "131b7386",
    "execution_start": 1644467523695,
    "execution_millis": 23,
    "deepnote_cell_type": "code"
   },
   "source": "transformer = KernelPCA(n_components=4, kernel='linear')\nX = transformer.fit_transform(X)\nX_train, X_test, y_train, y_test = train_test_split(X, y, test_size=0.2,random_state=1)",
   "execution_count": null,
   "outputs": []
  },
  {
   "cell_type": "code",
   "metadata": {
    "cell_id": "f6e019c3-012c-4be9-adf6-d7d5c9156202",
    "tags": [],
    "deepnote_to_be_reexecuted": false,
    "source_hash": "e714dfd7",
    "execution_start": 1644467529586,
    "execution_millis": 102813,
    "deepnote_cell_type": "code"
   },
   "source": "param_grid = { \n    'n_estimators': [10,50,100,150,200],\n    'max_features': ['auto', 'sqrt', 'log2'],\n    'criterion':['entropy','gini'],\n    'max_depth':[1,2,3]\n     \n}\n\n\nrfc= RandomForestClassifier()\n\n\nCV_rfc = GridSearchCV(estimator=rfc, param_grid=param_grid, cv= 10).fit(X_train,y_train)\nparams = CV_rfc.best_params_",
   "execution_count": null,
   "outputs": []
  },
  {
   "cell_type": "markdown",
   "source": "## 5.",
   "metadata": {
    "cell_id": "fc31d38a-9cf6-4d5e-9420-13aad8d78be3",
    "tags": [],
    "deepnote_cell_type": "markdown"
   }
  },
  {
   "cell_type": "code",
   "metadata": {
    "cell_id": "ad48093c-c025-4756-9fed-ce8293e6ca65",
    "tags": [],
    "deepnote_to_be_reexecuted": false,
    "source_hash": "71c88b5e",
    "execution_start": 1644467644726,
    "execution_millis": 10,
    "deepnote_output_heights": [
     79
    ],
    "deepnote_cell_type": "code"
   },
   "source": "params",
   "execution_count": null,
   "outputs": [
    {
     "output_type": "execute_result",
     "execution_count": 15,
     "data": {
      "text/plain": "{'criterion': 'gini',\n 'max_depth': 3,\n 'max_features': 'sqrt',\n 'n_estimators': 50}"
     },
     "metadata": {}
    }
   ]
  },
  {
   "cell_type": "markdown",
   "source": "## 6. ",
   "metadata": {
    "cell_id": "b890bcfc-8a2e-40ba-b35e-4f1abb145ba9",
    "tags": [],
    "deepnote_cell_type": "markdown"
   }
  },
  {
   "cell_type": "code",
   "metadata": {
    "cell_id": "b1736f37-1d03-45fd-bc30-05ec5722ed69",
    "tags": [],
    "deepnote_to_be_reexecuted": false,
    "source_hash": "1dc3f93e",
    "execution_start": 1644467647311,
    "execution_millis": 1016,
    "deepnote_cell_type": "code"
   },
   "source": "scores = []\nrf = RandomForestClassifier(n_estimators=params['n_estimators'],max_depth=params['max_depth'],max_features=params['max_features'],criterion=params['criterion'])\ncv = KFold(n_splits=10, random_state=42,shuffle=True)\nfor train_index, test_index in cv.split(X):\n\n    X_train, X_test, y_train, y_test = X[train_index], X[test_index], y[train_index], y[test_index]\n    rf.fit(X_train, y_train)\n    \n    predictions = rf.predict(X_test)\n    score = accuracy_score(y_test, predictions) \n    \n    scores.append(score)",
   "execution_count": null,
   "outputs": []
  },
  {
   "cell_type": "code",
   "metadata": {
    "cell_id": "1b149ec3-dca6-45b7-ac0d-dc7708bbdfef",
    "tags": [],
    "deepnote_to_be_reexecuted": false,
    "source_hash": "5ad5d988",
    "execution_start": 1644467650965,
    "execution_millis": 7,
    "deepnote_output_heights": [
     194
    ],
    "deepnote_cell_type": "code"
   },
   "source": "scores",
   "execution_count": null,
   "outputs": [
    {
     "output_type": "execute_result",
     "execution_count": 17,
     "data": {
      "text/plain": "[0.85,\n 0.85,\n 0.75,\n 0.8947368421052632,\n 0.6842105263157895,\n 0.7368421052631579,\n 0.8421052631578947,\n 0.9473684210526315,\n 0.8947368421052632,\n 0.7894736842105263]"
     },
     "metadata": {}
    }
   ]
  },
  {
   "cell_type": "markdown",
   "source": "## 7.",
   "metadata": {
    "cell_id": "e12def39-0196-47a1-9f11-2b496439c1ad",
    "tags": [],
    "deepnote_cell_type": "markdown"
   }
  },
  {
   "cell_type": "code",
   "metadata": {
    "cell_id": "b8bbd185-89f2-4683-9a82-923044c5889a",
    "tags": [],
    "deepnote_to_be_reexecuted": false,
    "source_hash": "8af880f6",
    "execution_start": 1644467653282,
    "execution_millis": 327936,
    "deepnote_output_heights": [
     606.75
    ],
    "deepnote_cell_type": "code"
   },
   "source": "param_range=np.arange(1, 250, 2)\ntrain_scores, test_scores = validation_curve(RandomForestClassifier(n_estimators=params['n_estimators'],max_depth=params['max_depth'],max_features=params['max_features'],criterion=params['criterion']), \n                                             X, \n                                             y, \n                                             param_name=\"n_estimators\", \n                                            param_range=param_range,\n                                             cv=cv, \n                                             scoring=\"accuracy\", \n                                             \n                                             n_jobs=-1)",
   "execution_count": null,
   "outputs": []
  },
  {
   "cell_type": "code",
   "metadata": {
    "cell_id": "99984429-5ce3-409d-a39b-1e512eebd585",
    "tags": [],
    "deepnote_to_be_reexecuted": false,
    "source_hash": "1126769d",
    "execution_start": 1644468023550,
    "execution_millis": 386,
    "deepnote_output_heights": [
     282
    ],
    "deepnote_cell_type": "code"
   },
   "source": "\n# Calculate mean and standard deviation for training set scores\ntrain_mean = np.mean(train_scores, axis=1)\ntrain_std = np.std(train_scores, axis=1)\n\n# Calculate mean and standard deviation for test set scores\ntest_mean = np.mean(test_scores, axis=1)\ntest_std = np.std(test_scores, axis=1)\n\n# Plot mean accuracy scores for training and test sets\nplt.plot(param_range, train_mean, label=\"Training score\", color=\"red\")\nplt.plot(param_range, test_mean, label=\"Cross-validation score\", color=\"blue\")\n\n# Plot accurancy bands for training and test sets\n#plt.fill_between(param_range, train_mean - train_std, train_mean + train_std, color=\"red\")\n#plt.fill_between(param_range, test_mean - test_std, test_mean + test_std, color=\"green\")\n\n# Create plot\nplt.title(\"Validation Curve With Random Forest\")\nplt.xlabel(\"Number Of Trees\")\nplt.ylabel(\"Accuracy Score\")\nplt.tight_layout()\nplt.legend(loc=\"best\")\nplt.show()",
   "execution_count": null,
   "outputs": [
    {
     "data": {
      "text/plain": "<Figure size 432x288 with 1 Axes>",
      "image/png": "[encoded data removed]"
     },
     "metadata": {
      "needs_background": "light",
      "image/png": {
       "width": 424,
       "height": 280
      }
     },
     "output_type": "display_data"
    }
   ]
  },
  {
   "cell_type": "markdown",
   "source": "## 8.",
   "metadata": {
    "cell_id": "540cdc85-7c4f-4fd3-a933-4fb7530e05e4",
    "tags": [],
    "deepnote_cell_type": "markdown"
   }
  },
  {
   "cell_type": "code",
   "metadata": {
    "cell_id": "522cdee6-8d30-4b5b-bc98-014b696d5107",
    "tags": [],
    "deepnote_to_be_reexecuted": false,
    "source_hash": "333e56ce",
    "execution_start": 1644468032642,
    "execution_millis": 16,
    "deepnote_cell_type": "code"
   },
   "source": "y_pred = rf.predict(X_test)\nprint(confusion_matrix(y_test, y_pred))\nprint(classification_report(y_test, y_pred))",
   "execution_count": null,
   "outputs": [
    {
     "name": "stdout",
     "text": "[[10  2  0]\n [ 1  5  0]\n [ 1  0  0]]\n              precision    recall  f1-score   support\n\n           0       0.83      0.83      0.83        12\n           1       0.71      0.83      0.77         6\n           2       0.00      0.00      0.00         1\n\n    accuracy                           0.79        19\n   macro avg       0.52      0.56      0.53        19\nweighted avg       0.75      0.79      0.77        19\n\n/shared-libs/python3.7/py/lib/python3.7/site-packages/sklearn/metrics/_classification.py:1308: UndefinedMetricWarning: Precision and F-score are ill-defined and being set to 0.0 in labels with no predicted samples. Use `zero_division` parameter to control this behavior.\n  _warn_prf(average, modifier, msg_start, len(result))\n/shared-libs/python3.7/py/lib/python3.7/site-packages/sklearn/metrics/_classification.py:1308: UndefinedMetricWarning: Precision and F-score are ill-defined and being set to 0.0 in labels with no predicted samples. Use `zero_division` parameter to control this behavior.\n  _warn_prf(average, modifier, msg_start, len(result))\n/shared-libs/python3.7/py/lib/python3.7/site-packages/sklearn/metrics/_classification.py:1308: UndefinedMetricWarning: Precision and F-score are ill-defined and being set to 0.0 in labels with no predicted samples. Use `zero_division` parameter to control this behavior.\n  _warn_prf(average, modifier, msg_start, len(result))\n",
     "output_type": "stream"
    }
   ]
  },
  {
   "cell_type": "markdown",
   "source": "### Interpretación de la matriz de confusión\nEs posible interpretar de la matriz de confusión que de 12 circulos, 10 fueron etiquetados como circulos y 2 como cuadrados; de 6 cuadrados 1 fue etiquetado como cuadrado y 5 fueron etiquetados como cuadrados; finalmente de 1 rectangulo este fue etiquetado como circulo.",
   "metadata": {
    "cell_id": "bf5f479a-9ce4-481f-9b54-8850433552c8",
    "tags": [],
    "deepnote_cell_type": "markdown"
   }
  },
  {
   "cell_type": "markdown",
   "source": "#### Interpretacion de resultados Random Forest: \n\nComo podemos observar este modelo se acerca mucho a lo deseado, debido a que los valores de entrenamiento y testeo son similares y la diferencia entre ellos no es mucha. Lo anterior significa que el modelo esta realmente aprendiendo en lugar de memorizando.",
   "metadata": {
    "cell_id": "7a87196e-ee2e-4d1c-83c7-8c0f01d97891",
    "tags": [],
    "deepnote_cell_type": "markdown"
   }
  },
  {
   "cell_type": "markdown",
   "source": "# Gaussian Naive Bayes",
   "metadata": {
    "cell_id": "495bbbd5-2fac-4b88-8958-5aed34ccb457",
    "tags": [],
    "deepnote_cell_type": "markdown"
   }
  },
  {
   "cell_type": "markdown",
   "source": "# 4.",
   "metadata": {
    "cell_id": "72c64d10-bde9-4064-9c9a-fde84752d536",
    "tags": [],
    "deepnote_cell_type": "markdown"
   }
  },
  {
   "cell_type": "code",
   "metadata": {
    "cell_id": "eda603b8-7cf0-4183-860a-77b2d5f5e881",
    "tags": [],
    "deepnote_to_be_reexecuted": false,
    "source_hash": "1755b326",
    "execution_start": 1644469626015,
    "execution_millis": 1,
    "deepnote_cell_type": "code"
   },
   "source": "transformer = KernelPCA(n_components=1, kernel='linear')\nX = transformer.fit_transform(X)\nX_train, X_test, y_train, y_test = train_test_split(X, y, test_size=0.2,random_state=2)",
   "execution_count": null,
   "outputs": []
  },
  {
   "cell_type": "code",
   "metadata": {
    "cell_id": "3e18747d-2db2-49a7-81e0-7aec34abfcdc",
    "tags": [],
    "deepnote_to_be_reexecuted": false,
    "source_hash": "4488b0ed",
    "execution_start": 1644469629987,
    "execution_millis": 134,
    "deepnote_output_heights": [
     59.59375
    ],
    "deepnote_cell_type": "code"
   },
   "source": "param_grid = { \n    \n    'var_smoothing': [0.00000001, 0.000000001, 0.00000001]\n     \n}\n\ngnb = GaussianNB()\n\n\nCV_gnbc = GridSearchCV(estimator=gnb, param_grid=param_grid, cv= 10).fit(X_train,y_train)\nparams = CV_gnbc.best_params_",
   "execution_count": null,
   "outputs": []
  },
  {
   "cell_type": "markdown",
   "source": "# 5.",
   "metadata": {
    "cell_id": "9597f991-85cb-4bbf-bd15-ad9133f6d12b",
    "tags": [],
    "deepnote_cell_type": "markdown"
   }
  },
  {
   "cell_type": "code",
   "metadata": {
    "cell_id": "181fb307-787b-4ab2-89ef-56b57b8ca94d",
    "tags": [],
    "deepnote_to_be_reexecuted": false,
    "source_hash": "71c88b5e",
    "execution_start": 1644469312623,
    "execution_millis": 8,
    "deepnote_output_heights": [
     21
    ],
    "deepnote_cell_type": "code"
   },
   "source": "params",
   "execution_count": null,
   "outputs": [
    {
     "output_type": "execute_result",
     "execution_count": 43,
     "data": {
      "text/plain": "{'var_smoothing': 1e-08}"
     },
     "metadata": {}
    }
   ]
  },
  {
   "cell_type": "markdown",
   "source": "# 6.",
   "metadata": {
    "cell_id": "7447905d-4314-4fd5-b424-182b5a698ed4",
    "tags": [],
    "deepnote_cell_type": "markdown"
   }
  },
  {
   "cell_type": "code",
   "metadata": {
    "cell_id": "9d0a0fd9-52f1-4bb5-b764-d814844e6c62",
    "tags": [],
    "deepnote_to_be_reexecuted": false,
    "source_hash": "fa2312f7",
    "execution_start": 1644469632966,
    "execution_millis": 53,
    "deepnote_cell_type": "code"
   },
   "source": "scores = []\ngnb = GaussianNB(var_smoothing=params['var_smoothing'])\ncv = KFold(n_splits=10, random_state=42,shuffle=True)\nfor train_index, test_index in cv.split(X):\n\n    X_train, X_test, y_train, y_test = X[train_index], X[test_index], y[train_index], y[test_index]\n    gnb.fit(X_train, y_train)\n    \n    predictions = gnb.predict(X_test)\n    score = accuracy_score(y_test, predictions) \n    \n    scores.append(score)",
   "execution_count": null,
   "outputs": []
  },
  {
   "cell_type": "code",
   "metadata": {
    "cell_id": "80611295-7eaf-4afe-8e89-c00396883f39",
    "tags": [],
    "deepnote_to_be_reexecuted": false,
    "source_hash": "5ad5d988",
    "execution_start": 1644469637812,
    "execution_millis": 14,
    "deepnote_output_heights": [
     194
    ],
    "deepnote_cell_type": "code"
   },
   "source": "scores",
   "execution_count": null,
   "outputs": [
    {
     "output_type": "execute_result",
     "execution_count": 66,
     "data": {
      "text/plain": "[0.7,\n 0.85,\n 0.6,\n 0.47368421052631576,\n 0.47368421052631576,\n 0.47368421052631576,\n 0.631578947368421,\n 0.6842105263157895,\n 0.5789473684210527,\n 0.6842105263157895]"
     },
     "metadata": {}
    }
   ]
  },
  {
   "cell_type": "code",
   "metadata": {
    "cell_id": "6a23f852-dd23-4d58-a00c-c036af7cfba8",
    "tags": [],
    "deepnote_to_be_reexecuted": false,
    "source_hash": "81670ad1",
    "execution_start": 1644469550727,
    "execution_millis": 657,
    "deepnote_cell_type": "code"
   },
   "source": "param_range = np.arange(3, 20, 2)\ntrain_scores, test_scores = validation_curve(gnb, \n                                             X, \n                                             y, \n                                             param_name=\"var_smoothing\", \n                                            param_range=param_range,\n                                             cv=cv, \n                                             scoring=\"accuracy\",      \n                                             n_jobs=-1)",
   "execution_count": null,
   "outputs": []
  },
  {
   "cell_type": "code",
   "metadata": {
    "cell_id": "eb6470e7-04f5-42c2-9fc8-6497a24677d1",
    "tags": [],
    "deepnote_to_be_reexecuted": false,
    "source_hash": "e6293540",
    "execution_start": 1644470227930,
    "execution_millis": 689,
    "deepnote_output_heights": [
     282
    ],
    "deepnote_cell_type": "code"
   },
   "source": "# Calculate mean and standard deviation for training set scores\ntrain_mean = np.mean(train_scores, axis=1)\ntrain_std = np.std(train_scores, axis=1)\n\n# Calculate mean and standard deviation for test set scores\ntest_mean = np.mean(test_scores, axis=1)\ntest_std = np.std(test_scores, axis=1)\n\n# Plot mean accuracy scores for training and test sets\nplt.plot(param_range, train_mean, label=\"Training score\", color=\"red\")\nplt.plot(param_range, test_mean, label=\"Cross-validation score\", color=\"blue\")\n\n# Plot accurancy bands for training and test sets\n#plt.fill_between(param_range, train_mean - train_std, train_mean + train_std, color=\"red\")\n#plt.fill_between(param_range, test_mean - test_std, test_mean + test_std, color=\"green\")\n\n# Create plot\nplt.title(\"Validation Curve With Gaussian Naive Bayes\")\nplt.xlabel(\"Variance Smoothing\")\nplt.ylabel(\"Accuracy Score\")\nplt.tight_layout()\nplt.legend(loc=\"best\")\nplt.show()",
   "execution_count": null,
   "outputs": [
    {
     "data": {
      "text/plain": "<Figure size 432x288 with 1 Axes>",
      "image/png": "[encoded data removed]"
     },
     "metadata": {
      "needs_background": "light",
      "image/png": {
       "width": 424,
       "height": 280
      }
     },
     "output_type": "display_data"
    }
   ]
  },
  {
   "cell_type": "markdown",
   "source": "## 8.",
   "metadata": {
    "cell_id": "4b640ac8-ba8b-4465-b74f-d284ec94b165",
    "tags": [],
    "deepnote_cell_type": "markdown"
   }
  },
  {
   "cell_type": "code",
   "metadata": {
    "cell_id": "b73a1868-042f-4d77-b528-e51c5e5cb5ad",
    "tags": [],
    "deepnote_to_be_reexecuted": false,
    "source_hash": "550031c9",
    "execution_start": 1644470325758,
    "execution_millis": 73,
    "deepnote_cell_type": "code"
   },
   "source": "y_pred = gnb.predict(X_test)\nprint(confusion_matrix(y_test, y_pred))\nprint(classification_report(y_test, y_pred))",
   "execution_count": null,
   "outputs": [
    {
     "name": "stdout",
     "text": "[[10  2  0]\n [ 3  3  0]\n [ 1  0  0]]\n              precision    recall  f1-score   support\n\n           0       0.71      0.83      0.77        12\n           1       0.60      0.50      0.55         6\n           2       0.00      0.00      0.00         1\n\n    accuracy                           0.68        19\n   macro avg       0.44      0.44      0.44        19\nweighted avg       0.64      0.68      0.66        19\n\n/shared-libs/python3.7/py/lib/python3.7/site-packages/sklearn/metrics/_classification.py:1308: UndefinedMetricWarning: Precision and F-score are ill-defined and being set to 0.0 in labels with no predicted samples. Use `zero_division` parameter to control this behavior.\n  _warn_prf(average, modifier, msg_start, len(result))\n/shared-libs/python3.7/py/lib/python3.7/site-packages/sklearn/metrics/_classification.py:1308: UndefinedMetricWarning: Precision and F-score are ill-defined and being set to 0.0 in labels with no predicted samples. Use `zero_division` parameter to control this behavior.\n  _warn_prf(average, modifier, msg_start, len(result))\n/shared-libs/python3.7/py/lib/python3.7/site-packages/sklearn/metrics/_classification.py:1308: UndefinedMetricWarning: Precision and F-score are ill-defined and being set to 0.0 in labels with no predicted samples. Use `zero_division` parameter to control this behavior.\n  _warn_prf(average, modifier, msg_start, len(result))\n",
     "output_type": "stream"
    }
   ]
  },
  {
   "cell_type": "markdown",
   "source": "### Interpretación de la matriz de confusión\n\nEn este caso, la primera fila de la matriz nos indica que 10 circulos fueron clasificados como círculos, 2 círculos fueron clasificados como cuadrados y ningún círculo fue clasificado como rectángulo.\nInterpretando de la misma manera, vemos en la segunda fila que 3 cuadrados fueron clasificados como círculos, y 3 fueron clasificados correctamente.\nY finalmente, la última fila nos indica que un rectángulo fue clasificado como círculo.",
   "metadata": {
    "cell_id": "ad058ffa-3c78-4ad6-915d-55e1b2f5a586",
    "tags": [],
    "deepnote_cell_type": "markdown"
   }
  },
  {
   "cell_type": "markdown",
   "source": "#### Interpretacion de resultados Gauss Naive Bayes: \n\n\nEn esta ocasión vemos resultados que van empeorando cuando el suavizado de varianza aumenta. \nTeniendo esto en cuenta podremos conjeturar en adelantado que este método tendrá un rendimiento menor una vez comparado con los otros en este proyecto.",
   "metadata": {
    "cell_id": "230c7ea8-fb06-4fa2-b693-04fc3c3c82f6",
    "tags": [],
    "deepnote_cell_type": "markdown"
   }
  },
  {
   "cell_type": "markdown",
   "source": "# KNN (K-nearest Neighbors)",
   "metadata": {
    "cell_id": "dc7b4c84-2469-4433-9182-d2f62bac110e",
    "tags": [],
    "deepnote_cell_type": "markdown"
   }
  },
  {
   "cell_type": "markdown",
   "source": "# 4.",
   "metadata": {
    "cell_id": "85797923-78c3-4045-ac8b-4dfdebf1c501",
    "tags": [],
    "deepnote_cell_type": "markdown"
   }
  },
  {
   "cell_type": "code",
   "metadata": {
    "cell_id": "b1b64777-7dba-4091-8a12-af7f5d2b7413",
    "tags": [],
    "deepnote_to_be_reexecuted": false,
    "source_hash": "368d8c34",
    "execution_start": 1644469359333,
    "execution_millis": 36,
    "deepnote_cell_type": "code"
   },
   "source": "transformer = KernelPCA(n_components=3, kernel='linear')\nX = transformer.fit_transform(X)\nX_train, X_test, y_train, y_test = train_test_split(X, y, test_size=0.2,random_state=2)\n",
   "execution_count": null,
   "outputs": []
  },
  {
   "cell_type": "code",
   "metadata": {
    "cell_id": "5b0fa506-4b14-4e02-b490-bbc7ffee2f87",
    "tags": [],
    "deepnote_to_be_reexecuted": false,
    "source_hash": "a3821c25",
    "execution_start": 1644469365251,
    "execution_millis": 797,
    "deepnote_cell_type": "code"
   },
   "source": "param_grid = { \n    \n    'n_neighbors':[1,2,3,4,5],\n    'algorithm':['auto','ball_tree','kd_tree','brute']\n     \n}\n\n\nknnc= KNeighborsClassifier()\n\n\nCV_knnc = GridSearchCV(estimator=knnc, param_grid=param_grid, cv= 5).fit(X_train,y_train)\nparams = CV_knnc.best_params_\n",
   "execution_count": null,
   "outputs": []
  },
  {
   "cell_type": "markdown",
   "source": "# 5.",
   "metadata": {
    "cell_id": "c5d721cd-27cf-4aa1-b796-876088255d4e",
    "tags": [],
    "deepnote_cell_type": "markdown"
   }
  },
  {
   "cell_type": "code",
   "metadata": {
    "cell_id": "fbed6991-716f-43b4-b2ec-b281278bcb65",
    "tags": [],
    "deepnote_to_be_reexecuted": false,
    "source_hash": "71c88b5e",
    "execution_start": 1644469369687,
    "execution_millis": 10,
    "deepnote_output_heights": [
     21
    ],
    "deepnote_cell_type": "code"
   },
   "source": "params",
   "execution_count": null,
   "outputs": [
    {
     "output_type": "execute_result",
     "execution_count": 49,
     "data": {
      "text/plain": "{'algorithm': 'auto', 'n_neighbors': 1}"
     },
     "metadata": {}
    }
   ]
  },
  {
   "cell_type": "markdown",
   "source": "# 6.",
   "metadata": {
    "cell_id": "7d380cfe-5184-49cc-af84-1a9fdce42f40",
    "tags": [],
    "deepnote_cell_type": "markdown"
   }
  },
  {
   "cell_type": "code",
   "metadata": {
    "cell_id": "88fadc60-beb9-4a4e-86de-33488692fe61",
    "tags": [],
    "deepnote_to_be_reexecuted": false,
    "source_hash": "7588fe1a",
    "execution_start": 1644469371792,
    "execution_millis": 137,
    "deepnote_cell_type": "code"
   },
   "source": "scores = []\nknn = KNeighborsClassifier(n_neighbors=params['n_neighbors'],algorithm=params['algorithm'])\ncv = KFold(n_splits=10, random_state=40,shuffle=True)\nfor train_index, test_index in cv.split(X):\n\n    X_train, X_test, y_train, y_test = X[train_index], X[test_index], y[train_index], y[test_index]\n    knn.fit(X_train, y_train)\n    \n    predictions = knn.predict(X_test)\n    score = accuracy_score(y_test, predictions) \n    \n    scores.append(score)",
   "execution_count": null,
   "outputs": []
  },
  {
   "cell_type": "code",
   "metadata": {
    "cell_id": "feaf1558-0cb6-4349-b438-c83d361b8712",
    "tags": [],
    "deepnote_to_be_reexecuted": false,
    "source_hash": "5ad5d988",
    "execution_start": 1644459467858,
    "execution_millis": 21,
    "deepnote_output_heights": [
     194
    ],
    "deepnote_cell_type": "code"
   },
   "source": "scores",
   "execution_count": null,
   "outputs": [
    {
     "output_type": "execute_result",
     "execution_count": 45,
     "data": {
      "text/plain": "[0.85,\n 0.95,\n 0.85,\n 0.6842105263157895,\n 0.7894736842105263,\n 0.8421052631578947,\n 0.8947368421052632,\n 0.8947368421052632,\n 0.8947368421052632,\n 0.7368421052631579]"
     },
     "metadata": {}
    }
   ]
  },
  {
   "cell_type": "markdown",
   "source": "# 7.",
   "metadata": {
    "cell_id": "0652168b-c80f-4ecd-9ae4-6ff7c3c8cb18",
    "tags": [],
    "deepnote_cell_type": "markdown"
   }
  },
  {
   "cell_type": "code",
   "metadata": {
    "cell_id": "c2647377-90da-49a7-a570-a938a55a5298",
    "tags": [],
    "deepnote_to_be_reexecuted": false,
    "source_hash": "a65f4f1a",
    "execution_start": 1644469374781,
    "execution_millis": 4962,
    "deepnote_cell_type": "code"
   },
   "source": "param_range = np.arange(3, 20, 2)\ntrain_scores, test_scores = validation_curve(KNeighborsClassifier(n_neighbors=params['n_neighbors'],algorithm=params['algorithm']), \n                                             X, \n                                             y, \n                                             param_name=\"n_neighbors\", \n                                            param_range=param_range,\n                                             cv=cv, \n                                             scoring=\"accuracy\", \n                                             n_jobs=-1)",
   "execution_count": null,
   "outputs": []
  },
  {
   "cell_type": "code",
   "metadata": {
    "cell_id": "2d5a8908-946e-4973-a8dd-eeafba41c19f",
    "tags": [],
    "deepnote_to_be_reexecuted": false,
    "source_hash": "dabd41f4",
    "execution_start": 1644470704972,
    "execution_millis": 652,
    "deepnote_output_heights": [
     282
    ],
    "deepnote_cell_type": "code"
   },
   "source": "# Calculate mean and standard deviation for training set scores\ntrain_mean = np.mean(train_scores, axis=1)\ntrain_std = np.std(train_scores, axis=1)\n\n# Calculate mean and standard deviation for test set scores\ntest_mean = np.mean(test_scores, axis=1)\ntest_std = np.std(test_scores, axis=1)\n\n# Plot mean accuracy scores for training and test sets\nplt.plot(param_range, train_mean, label=\"Training score\", color=\"red\")\nplt.plot(param_range, test_mean, label=\"Cross-validation score\", color=\"blue\")\n\n# Plot accurancy bands for training and test sets\n#plt.fill_between(param_range, train_mean - train_std, train_mean + train_std, color=\"red\")\n#plt.fill_between(param_range, test_mean - test_std, test_mean + test_std, color=\"green\")\n\n# Create plot\nplt.title(\"Validation Curve With KNN\")\nplt.xlabel(\"number of neighbors\")\nplt.ylabel(\"Accuracy Score\")\nplt.tight_layout()\nplt.legend(loc=\"best\")\nplt.show()",
   "execution_count": null,
   "outputs": [
    {
     "data": {
      "text/plain": "<Figure size 432x288 with 1 Axes>",
      "image/png": "[encoded data removed]"
     },
     "metadata": {
      "needs_background": "light",
      "image/png": {
       "width": 424,
       "height": 280
      }
     },
     "output_type": "display_data"
    }
   ]
  },
  {
   "cell_type": "markdown",
   "source": "# 8.",
   "metadata": {
    "cell_id": "9749b470-2589-4b9f-9cad-74c2295c527d",
    "tags": [],
    "deepnote_cell_type": "markdown"
   }
  },
  {
   "cell_type": "code",
   "metadata": {
    "cell_id": "b0ee78ea-4ae4-4a73-af06-787e89563d98",
    "tags": [],
    "deepnote_to_be_reexecuted": false,
    "source_hash": "3d879f",
    "execution_start": 1644459556981,
    "execution_millis": 16,
    "deepnote_cell_type": "code"
   },
   "source": "y_pred = knn.predict(X_test)\nprint(confusion_matrix(y_test, y_pred))\nprint(classification_report(y_test, y_pred))",
   "execution_count": null,
   "outputs": [
    {
     "name": "stdout",
     "text": "[[5 4 0]\n [0 5 0]\n [1 0 4]]\n              precision    recall  f1-score   support\n\n           0       0.83      0.56      0.67         9\n           1       0.56      1.00      0.71         5\n           2       1.00      0.80      0.89         5\n\n    accuracy                           0.74        19\n   macro avg       0.80      0.79      0.76        19\nweighted avg       0.80      0.74      0.74        19\n\n",
     "output_type": "stream"
    }
   ]
  },
  {
   "cell_type": "markdown",
   "source": "### Interpretación de la matriz de confusión\n\nEn este caso, la primera fila de la matriz nos indica que 5 circulos fueron clasificados como círculos, 4 círculos fueron clasificados como cuadrados y ningún círculo fue clasificado como rectángulo.\nInterpretando de la misma manera, vemos en la segunda fila que todos los cuadrados fueron clasificados correctamente.\nY finalmente, la última fila nos indica que un rectángulo fue clasificado como círculo, y todos los demás fueron clasificados correctamente.",
   "metadata": {
    "cell_id": "c0661014-4245-49a4-9996-5183e232f63c",
    "tags": [],
    "deepnote_cell_type": "markdown"
   }
  },
  {
   "cell_type": "markdown",
   "source": "#### Interpretación de resultados KNN: \n\nEn estos resultados observamos que los modelos van desmejorando, lo cual, evidentemente no es deseable. Aunque se sospechó la tenencia de overfitting, no existen evidencias que lo sugieran. Es importante notar que, aunque el porcentaje de acierto es alto, \nes probable que este método no se adapte óptimamente a la base de datos considerada. Por eso se evidenciaría la decadencia en los resultados del \"cross-validation score\".\nSospechamos que este fenómeno es debido a la similitud de los datos a analizar.",
   "metadata": {
    "cell_id": "3a0100da-bcdc-4664-bc25-67e69e73bb0d",
    "tags": [],
    "deepnote_cell_type": "markdown"
   }
  },
  {
   "cell_type": "markdown",
   "source": "### Conclusiones:\nDe estos 4 modelos de aprendizaje supervisado, el que mejores resultados obtuvo fue RandomForest. Si se quisiera utilizar algún modelo para la clasificación de triángulos,cuadrados y círculos seguramente sería este, pues los otros tres modelos sufren de overfitting o el preprocesamiento de las imágenes no fue el correcto. \n\nNotamos que existe una gran relación entre la cantidad de datos que ingresan a los modelos y la probabilidad de que el modelo genere un overfitting en el resultado, y que la relación es inversa entre estas dos variables.\n\nEl overfitting es una condición no deseable recurrente, este comportamiento está asociado a muchas variables relacionadas con la solución del problema. Una de las aptitudes más valiosas para el correcto entrenamiento y uso de los modelos, es comprender cómo reducir el overfitting.\n\nCon una base de datos tan pequeña y monótona es bastante probable que el modelo memorice las etiquetas, en lugar de aprender a clasificar correctamente. Se torna deseable el uso de bases de datos más grandes y más variadas.\n",
   "metadata": {
    "cell_id": "cc3c1bc0-8622-496d-8ee8-848c78c8158d",
    "tags": [],
    "deepnote_cell_type": "markdown"
   }
  },
  {
   "cell_type": "markdown",
   "source": "#### Mejor modelo: Random Forest",
   "metadata": {
    "cell_id": "e67902a1-872a-4676-9f3e-e135e3f62509",
    "tags": [],
    "deepnote_cell_type": "markdown"
   }
  },
  {
   "cell_type": "markdown",
   "source": "",
   "metadata": {
    "cell_id": "d6afbf49-ace4-4d65-b07c-41021e1f8622",
    "tags": [],
    "deepnote_cell_type": "markdown"
   }
  },
  {
   "cell_type": "markdown",
   "source": "<a style='text-decoration:none;line-height:16px;display:flex;color:#5B5B62;padding:10px;justify-content:end;' href='https://deepnote.com?utm_source=created-in-deepnote-cell&projectId=42f62597-1bef-47d0-ae61-8f8973ac7c4f' target=\"_blank\">\n<img alt='Created in deepnote.com' style='display:inline;max-height:16px;margin:0px;margin-right:7.5px;' src='data:image/svg+xml;base64,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' > </img>\nCreated in <span style='font-weight:600;margin-left:4px;'>Deepnote</span></a>",
   "metadata": {
    "tags": [],
    "created_in_deepnote_cell": true,
    "deepnote_cell_type": "markdown"
   }
  }
 ],
 "nbformat": 4,
 "nbformat_minor": 2,
 "metadata": {
  "orig_nbformat": 2,
  "deepnote": {
   "is_reactive": false
  },
  "deepnote_notebook_id": "cf499aef-ecdb-4129-b194-6f31a4d759d3",
  "deepnote_execution_queue": []
 }
}